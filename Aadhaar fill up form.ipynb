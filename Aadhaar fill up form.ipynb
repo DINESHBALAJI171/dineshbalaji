{
  "cells": [
    {
      "cell_type": "markdown",
      "metadata": {
        "id": "view-in-github",
        "colab_type": "text"
      },
      "source": [
        "<a href=\"https://colab.research.google.com/github/DINESHBALAJI171/dineshbalaji/blob/main/Aadhaar%20fill%20up%20form.ipynb\" target=\"_parent\"><img src=\"https://colab.research.google.com/assets/colab-badge.svg\" alt=\"Open In Colab\"/></a>"
      ]
    },
    {
      "cell_type": "code",
      "source": [
        "\n",
        "def aadhaar_form():\n",
        "    print(\"Welcome to the Aadhaar Form Fill-Up\")\n",
        "    print(\"Please fill in the following details:\\n\")\n",
        "\n",
        "    # Collecting user information\n",
        "    name = input(\"Full Name: \")\n",
        "    gender = input(\"Gender (Male/Female/Other): \")\n",
        "    dob = input(\"Date of Birth (DD/MM/YYYY): \")\n",
        "    address = input(\"Address: \")\n",
        "    city = input(\"City: \")\n",
        "    state = input(\"State: \")\n",
        "    pincode = input(\"Pincode: \")\n",
        "    mobile_number = input(\"Mobile Number: \")\n",
        "    email = input(\"Email (optional): \")\n",
        "\n",
        "    # Displaying the filled form\n",
        "    print(\"\\nAadhaar Form Details:\")\n",
        "    print(\"---------------------\")\n",
        "    print(f\"Name: {name}\")\n",
        "    print(f\"Gender: {gender}\")\n",
        "    print(f\"Date of Birth: {dob}\")\n",
        "    print(f\"Address: {address}\")\n",
        "    print(f\"City: {city}\")\n",
        "    print(f\"State: {state}\")\n",
        "    print(f\"Pincode: {pincode}\")\n",
        "    print(f\"Mobile Number: {mobile_number}\")\n",
        "    print(f\"Email: {email if email else 'Not Provided'}\")\n",
        "    print(\"---------------------\")\n",
        "    print(\"Thank you for filling out the Aadhaar form!\")\n",
        "\n",
        "# Run the Aadhaar form fill-up program\n",
        "aadhaar_form()"
      ],
      "metadata": {
        "id": "ZuwBOTDAWa-P",
        "outputId": "c26da35a-fc84-41d1-c91a-69a26e305611",
        "colab": {
          "base_uri": "https://localhost:8080/"
        }
      },
      "execution_count": null,
      "outputs": [
        {
          "output_type": "stream",
          "name": "stdout",
          "text": [
            "Welcome to the Aadhaar Form Fill-Up\n",
            "Please fill in the following details:\n",
            "\n"
          ]
        }
      ]
    }
  ],
  "metadata": {
    "colab": {
      "name": "Welcome To Colab",
      "provenance": [],
      "include_colab_link": true
    },
    "kernelspec": {
      "display_name": "Python 3",
      "name": "python3"
    }
  },
  "nbformat": 4,
  "nbformat_minor": 0
}