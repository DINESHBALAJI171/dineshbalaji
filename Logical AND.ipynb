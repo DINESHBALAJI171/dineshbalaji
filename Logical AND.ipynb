{
  "cells": [
    {
      "cell_type": "markdown",
      "metadata": {
        "id": "view-in-github",
        "colab_type": "text"
      },
      "source": [
        "<a href=\"https://colab.research.google.com/github/DINESHBALAJI171/dineshbalaji/blob/main/Logical%20AND.ipynb\" target=\"_parent\"><img src=\"https://colab.research.google.com/assets/colab-badge.svg\" alt=\"Open In Colab\"/></a>"
      ]
    },
    {
      "cell_type": "code",
      "source": [
        "# Simple Logical AND Example Program\n",
        "\n",
        "# Function to perform logical AND operation\n",
        "def logical_and(a, b):\n",
        "    return a and b\n",
        "\n",
        "# Main function\n",
        "def main():\n",
        "    try:\n",
        "        # Taking boolean inputs from the user\n",
        "        input1 = input(\"Enter the first boolean value (True/False): \").strip().lower()\n",
        "        input2 = input(\"Enter the second boolean value (True/False): \").strip().lower()\n",
        "\n",
        "        # Converting string inputs to boolean\n",
        "        bool1 = input1 == 'true'\n",
        "        bool2 = input2 == 'true'\n",
        "\n",
        "        # Performing logical AND operation\n",
        "        result = logical_and(bool1, bool2)\n",
        "\n",
        "        # Displaying the result\n",
        "        print(f\"The result of {bool1} AND {bool2} is: {result}\")\n",
        "\n",
        "    except Exception as e:\n",
        "        print(\"An error occurred:\", e)\n",
        "\n",
        "# Entry point of the program\n",
        "if __name__ == \"__main__\":\n",
        "    main()"
      ],
      "metadata": {
        "id": "24ey8xMILAy3"
      },
      "execution_count": null,
      "outputs": []
    }
  ],
  "metadata": {
    "colab": {
      "name": "Welcome To Colab",
      "provenance": [],
      "include_colab_link": true
    },
    "kernelspec": {
      "display_name": "Python 3",
      "name": "python3"
    }
  },
  "nbformat": 4,
  "nbformat_minor": 0
}