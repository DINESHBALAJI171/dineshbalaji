{
  "cells": [
    {
      "cell_type": "markdown",
      "metadata": {
        "id": "view-in-github",
        "colab_type": "text"
      },
      "source": [
        "<a href=\"https://colab.research.google.com/github/DINESHBALAJI171/dineshbalaji/blob/main/Inheritance.ipynb\" target=\"_parent\"><img src=\"https://colab.research.google.com/assets/colab-badge.svg\" alt=\"Open In Colab\"/></a>"
      ]
    },
    {
      "cell_type": "code",
      "source": [
        "# Base class: Vehicle\n",
        "class Vehicle:\n",
        "    def __init__(self, make, model, year):\n",
        "        self.make = make\n",
        "        self.model = model\n",
        "        self.year = year\n",
        "\n",
        "    def display_info(self):\n",
        "        return f\"{self.year} {self.make} {self.model}\"\n",
        "\n",
        "# Derived class: Person\n",
        "class Person:\n",
        "    def __init__(self, name, age):\n",
        "        self.name = name\n",
        "        self.age = age\n",
        "        self.vehicle = None  # Initially, the person has no vehicle\n",
        "\n",
        "    def buy_vehicle(self, vehicle):\n",
        "        self.vehicle = vehicle\n",
        "\n",
        "    def display_info(self):\n",
        "        vehicle_info = self.vehicle.display_info() if self.vehicle else \"No vehicle owned\"\n",
        "        return f\"Name: {self.name}, Age: {self.age}, Vehicle: {vehicle_info}\"\n",
        "\n",
        "# Main function\n",
        "def main():\n",
        "    # Create a Vehicle object\n",
        "    my_vehicle = Vehicle(\"Toyota\", \"Camry\", 2020)\n",
        "\n",
        "    # Create a Person object\n",
        "    person = Person(\"Alice\", 30)\n",
        "\n",
        "    # Person buys a vehicle\n",
        "    person.buy_vehicle(my_vehicle)\n",
        "\n",
        "    # Display information about the person and their vehicle\n",
        "    print(person.display_info())\n",
        "\n",
        "# Entry point of the program\n",
        "if __name__ == \"__main__\":\n",
        "    main()"
      ],
      "metadata": {
        "id": "ezhON9J8MzQA",
        "outputId": "f59fe6ce-8c9e-4b98-a405-249bbd706f07",
        "colab": {
          "base_uri": "https://localhost:8080/"
        }
      },
      "execution_count": 7,
      "outputs": [
        {
          "output_type": "stream",
          "name": "stdout",
          "text": [
            "Name: Alice, Age: 30, Vehicle: 2020 Toyota Camry\n"
          ]
        }
      ]
    }
  ],
  "metadata": {
    "colab": {
      "name": "Welcome To Colab",
      "provenance": [],
      "include_colab_link": true
    },
    "kernelspec": {
      "display_name": "Python 3",
      "name": "python3"
    }
  },
  "nbformat": 4,
  "nbformat_minor": 0
}