{
  "cells": [
    {
      "cell_type": "markdown",
      "metadata": {
        "id": "view-in-github",
        "colab_type": "text"
      },
      "source": [
        "<a href=\"https://colab.research.google.com/github/DINESHBALAJI171/dineshbalaji/blob/main/Default%20constructor.ipynb\" target=\"_parent\"><img src=\"https://colab.research.google.com/assets/colab-badge.svg\" alt=\"Open In Colab\"/></a>"
      ]
    },
    {
      "cell_type": "code",
      "source": [
        "class Vehicle:\n",
        "    def __init__(self, make=\"Unknown\", model=\"Unknown\", year=0):\n",
        "        \"\"\"Default constructor to initialize vehicle attributes.\"\"\"\n",
        "        self.make = make    # Initialize the make attribute\n",
        "        self.model = model  # Initialize the model attribute\n",
        "        self.year = year    # Initialize the year attribute\n",
        "\n",
        "    def display_info(self):\n",
        "        \"\"\"Method to display vehicle information.\"\"\"\n",
        "        return f\"Vehicle Make: {self.make}, Model: {self.model}, Year: {self.year}\"\n",
        "\n",
        "# Main function\n",
        "def main():\n",
        "    # Create a Vehicle object using the default constructor\n",
        "    vehicle1 = Vehicle()  # No arguments provided, uses default values\n",
        "    vehicle2 = Vehicle(\"Toyota\", \"Camry\", 2020)  # Custom values\n",
        "\n",
        "    # Display information about the vehicles\n",
        "    print(vehicle1.display_info())\n",
        "    print(vehicle2.display_info())\n",
        "\n",
        "# Entry point of the program\n",
        "if __name__ == \"__main__\":\n",
        "    main()"
      ],
      "metadata": {
        "id": "wXSeAs3DV31o",
        "outputId": "4035d3d1-b74b-423e-ea4a-52cd129ec8de",
        "colab": {
          "base_uri": "https://localhost:8080/"
        }
      },
      "execution_count": 13,
      "outputs": [
        {
          "output_type": "stream",
          "name": "stdout",
          "text": [
            "Vehicle Make: Unknown, Model: Unknown, Year: 0\n",
            "Vehicle Make: Toyota, Model: Camry, Year: 2020\n"
          ]
        }
      ]
    }
  ],
  "metadata": {
    "colab": {
      "name": "Welcome To Colab",
      "provenance": [],
      "include_colab_link": true
    },
    "kernelspec": {
      "display_name": "Python 3",
      "name": "python3"
    }
  },
  "nbformat": 4,
  "nbformat_minor": 0
}