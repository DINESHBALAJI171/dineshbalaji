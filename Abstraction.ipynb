{
  "cells": [
    {
      "cell_type": "markdown",
      "metadata": {
        "id": "view-in-github",
        "colab_type": "text"
      },
      "source": [
        "<a href=\"https://colab.research.google.com/github/DINESHBALAJI171/dineshbalaji/blob/main/Abstraction.ipynb\" target=\"_parent\"><img src=\"https://colab.research.google.com/assets/colab-badge.svg\" alt=\"Open In Colab\"/></a>"
      ]
    },
    {
      "cell_type": "code",
      "source": [
        "from abc import ABC, abstractmethod\n",
        "\n",
        "# Abstract base class\n",
        "class Person(ABC):\n",
        "    @abstractmethod\n",
        "    def display_info(self):\n",
        "        pass\n",
        "\n",
        "# Derived class: Student\n",
        "class Student(Person):\n",
        "    def __init__(self, name, age, grade):\n",
        "        self.name = name\n",
        "        self.age = age\n",
        "        self.grade = grade\n",
        "\n",
        "    def display_info(self):\n",
        "        return f\"Student Name: {self.name}, Age: {self.age}, Grade: {self.grade}\"\n",
        "\n",
        "# Derived class: Teacher\n",
        "class Teacher(Person):\n",
        "    def __init__(self, name, age, subject):\n",
        "        self.name = name\n",
        "        self.age = age\n",
        "        self.subject = subject\n",
        "\n",
        "    def display_info(self):\n",
        "        return f\"Teacher Name: {self.name}, Age: {self.age}, Subject: {self.subject}\"\n",
        "\n",
        "# Main function\n",
        "def main():\n",
        "    # Create a Student object\n",
        "    student = Student(\"Alice\", 20, \"A\")\n",
        "\n",
        "    # Create a Teacher object\n",
        "    teacher = Teacher(\"Mr. Smith\", 35, \"Mathematics\")\n",
        "\n",
        "    # Display information about the student and teacher\n",
        "    print(student.display_info())\n",
        "    print(teacher.display_info())\n",
        "\n",
        "# Entry point of the program\n",
        "if __name__ == \"__main__\":\n",
        "    main()"
      ],
      "metadata": {
        "id": "GFESps0DUbjD",
        "outputId": "abe8dd13-6221-455e-97bd-517def1fddbb",
        "colab": {
          "base_uri": "https://localhost:8080/"
        }
      },
      "execution_count": 9,
      "outputs": [
        {
          "output_type": "stream",
          "name": "stdout",
          "text": [
            "Student Name: Alice, Age: 20, Grade: A\n",
            "Teacher Name: Mr. Smith, Age: 35, Subject: Mathematics\n"
          ]
        }
      ]
    }
  ],
  "metadata": {
    "colab": {
      "name": "Welcome To Colab",
      "provenance": [],
      "include_colab_link": true
    },
    "kernelspec": {
      "display_name": "Python 3",
      "name": "python3"
    }
  },
  "nbformat": 4,
  "nbformat_minor": 0
}