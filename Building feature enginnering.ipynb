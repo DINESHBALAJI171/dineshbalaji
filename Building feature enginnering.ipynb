{
  "cells": [
    {
      "cell_type": "markdown",
      "metadata": {
        "id": "view-in-github",
        "colab_type": "text"
      },
      "source": [
        "<a href=\"https://colab.research.google.com/github/DINESHBALAJI171/dineshbalaji/blob/main/Building%20feature%20enginnering.ipynb\" target=\"_parent\"><img src=\"https://colab.research.google.com/assets/colab-badge.svg\" alt=\"Open In Colab\"/></a>"
      ]
    },
    {
      "cell_type": "code",
      "source": [
        "import pandas as pd\n",
        "from sklearn.model_selection import train_test_split\n",
        "from sklearn.preprocessing import StandardScaler\n",
        "\n",
        "# Sample dataset creation\n",
        "data = {\n",
        "    'city': ['chennai', 'tamil nadu', 'pulinthope', 'Houston', 'Phoenix', 'Philadelphia'],\n",
        "    'num_buildings': [1000, 800, 600, 400, 300, None],\n",
        "    'population': [8000000, 4000000, 2700000, 2300000, 1600000, 1500000]\n",
        "}\n",
        "\n",
        "# Create a DataFrame\n",
        "df = pd.DataFrame(data)\n",
        "\n",
        "# Display the original DataFrame\n",
        "print(\"Original DataFrame:\")\n",
        "print(df)\n",
        "\n",
        "# 1. Handle missing values\n",
        "df['num_buildings'].fillna(df['num_buildings'].mean(), inplace=True)  # Fill missing buildings with mean\n",
        "\n",
        "# 2. Create new features\n",
        "df['building_density'] = df['num_buildings'] / df['population']  # New feature: buildings per capita\n",
        "\n",
        "# 3. One-hot encoding for categorical variables\n",
        "df = pd.get_dummies(df, columns=['city'], drop_first=True)\n",
        "\n",
        "# Display the DataFrame after feature engineering\n",
        "print(\"\\nDataFrame after Feature Engineering:\")\n",
        "print(df)\n",
        "\n",
        "# 4. Split the data into features and target variable\n",
        "X = df.drop(columns=['num_buildings'])  # Features\n",
        "y = df['num_buildings']  # Target variable\n",
        "\n",
        "# 5. Split the dataset into training and testing sets\n",
        "X_train, X_test, y_train, y_test = train_test_split(X, y, test_size=0.2, random_state=42)\n",
        "\n",
        "# 6. Scale the features\n",
        "scaler = StandardScaler()\n",
        "X_train_scaled = scaler.fit_transform(X_train)\n",
        "X_test_scaled = scaler.transform(X_test)\n",
        "\n",
        "# Display the scaled features\n",
        "print(\"\\nScaled Features (Training Set):\")\n",
        "print(X_train_scaled)"
      ],
      "metadata": {
        "id": "CnoQimXNVuyO",
        "outputId": "82a80e98-6d19-4697-9500-9a855002ba1f",
        "colab": {
          "base_uri": "https://localhost:8080/"
        }
      },
      "execution_count": 4,
      "outputs": [
        {
          "output_type": "stream",
          "name": "stdout",
          "text": [
            "Original DataFrame:\n",
            "           city  num_buildings  population\n",
            "0       chennai         1000.0     8000000\n",
            "1    tamil nadu          800.0     4000000\n",
            "2    pulinthope          600.0     2700000\n",
            "3       Houston          400.0     2300000\n",
            "4       Phoenix          300.0     1600000\n",
            "5  Philadelphia            NaN     1500000\n",
            "\n",
            "DataFrame after Feature Engineering:\n",
            "   num_buildings  population  building_density  city_Philadelphia  \\\n",
            "0         1000.0     8000000          0.000125              False   \n",
            "1          800.0     4000000          0.000200              False   \n",
            "2          600.0     2700000          0.000222              False   \n",
            "3          400.0     2300000          0.000174              False   \n",
            "4          300.0     1600000          0.000188              False   \n",
            "5          620.0     1500000          0.000413               True   \n",
            "\n",
            "   city_Phoenix  city_chennai  city_pulinthope  city_tamil nadu  \n",
            "0         False          True            False            False  \n",
            "1         False         False            False             True  \n",
            "2         False         False             True            False  \n",
            "3         False         False            False            False  \n",
            "4          True         False            False            False  \n",
            "5         False         False            False            False  \n",
            "\n",
            "Scaled Features (Training Set):\n",
            "[[-1.05662467  1.70286149  1.73205081 -0.57735027  0.         -0.57735027\n",
            "   0.        ]\n",
            " [ 1.35851743 -0.28040016 -0.57735027 -0.57735027  0.          1.73205081\n",
            "   0.        ]\n",
            " [-0.85536283 -0.64073113 -0.57735027  1.73205081  0.         -0.57735027\n",
            "   0.        ]\n",
            " [ 0.55347007 -0.7817302  -0.57735027 -0.57735027  0.         -0.57735027\n",
            "   0.        ]]\n"
          ]
        },
        {
          "output_type": "stream",
          "name": "stderr",
          "text": [
            "/tmp/ipython-input-4-365229058.py:20: FutureWarning: A value is trying to be set on a copy of a DataFrame or Series through chained assignment using an inplace method.\n",
            "The behavior will change in pandas 3.0. This inplace method will never work because the intermediate object on which we are setting values always behaves as a copy.\n",
            "\n",
            "For example, when doing 'df[col].method(value, inplace=True)', try using 'df.method({col: value}, inplace=True)' or df[col] = df[col].method(value) instead, to perform the operation inplace on the original object.\n",
            "\n",
            "\n",
            "  df['num_buildings'].fillna(df['num_buildings'].mean(), inplace=True)  # Fill missing buildings with mean\n"
          ]
        }
      ]
    }
  ],
  "metadata": {
    "colab": {
      "name": "Welcome To Colab",
      "provenance": [],
      "include_colab_link": true
    },
    "kernelspec": {
      "display_name": "Python 3",
      "name": "python3"
    }
  },
  "nbformat": 4,
  "nbformat_minor": 0
}