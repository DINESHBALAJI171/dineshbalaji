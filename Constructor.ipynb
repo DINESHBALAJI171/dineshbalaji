{
  "cells": [
    {
      "cell_type": "markdown",
      "metadata": {
        "id": "view-in-github",
        "colab_type": "text"
      },
      "source": [
        "<a href=\"https://colab.research.google.com/github/DINESHBALAJI171/dineshbalaji/blob/main/Constructor.ipynb\" target=\"_parent\"><img src=\"https://colab.research.google.com/assets/colab-badge.svg\" alt=\"Open In Colab\"/></a>"
      ]
    },
    {
      "cell_type": "code",
      "source": [
        "class Person:\n",
        "    def __init__(self, name, age):\n",
        "        \"\"\"Constructor to initialize the name and age of the person.\"\"\"\n",
        "        self.name = name  # Initialize the name attribute\n",
        "        self.age = age    # Initialize the age attribute\n",
        "\n",
        "    def display_info(self):\n",
        "        \"\"\"Method to display the person's information.\"\"\"\n",
        "        return f\"Name: {self.name}, Age: {self.age}\"\n",
        "\n",
        "# Main function\n",
        "def main():\n",
        "    # Create a Person object using the constructor\n",
        "    person1 = Person(\"Alice\", 30)\n",
        "    person2 = Person(\"Bob\", 25)\n",
        "\n",
        "    # Display information about the persons\n",
        "    print(person1.display_info())\n",
        "    print(person2.display_info())\n",
        "\n",
        "# Entry point of the program\n",
        "if __name__ == \"__main__\":\n",
        "    main()"
      ],
      "metadata": {
        "id": "oTNj7UnxVTQ3",
        "outputId": "e45ef932-b1bb-4988-fd41-9e127354301a",
        "colab": {
          "base_uri": "https://localhost:8080/"
        }
      },
      "execution_count": 11,
      "outputs": [
        {
          "output_type": "stream",
          "name": "stdout",
          "text": [
            "Name: Alice, Age: 30\n",
            "Name: Bob, Age: 25\n"
          ]
        }
      ]
    }
  ],
  "metadata": {
    "colab": {
      "name": "Welcome To Colab",
      "provenance": [],
      "include_colab_link": true
    },
    "kernelspec": {
      "display_name": "Python 3",
      "name": "python3"
    }
  },
  "nbformat": 4,
  "nbformat_minor": 0
}