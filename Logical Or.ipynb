{
  "cells": [
    {
      "cell_type": "markdown",
      "metadata": {
        "id": "view-in-github",
        "colab_type": "text"
      },
      "source": [
        "<a href=\"https://colab.research.google.com/github/DINESHBALAJI171/dineshbalaji/blob/main/Logical%20Or.ipynb\" target=\"_parent\"><img src=\"https://colab.research.google.com/assets/colab-badge.svg\" alt=\"Open In Colab\"/></a>"
      ]
    },
    {
      "cell_type": "code",
      "source": [
        "# Simple Logical OR Example Program\n",
        "\n",
        "# Function to perform logical OR operation\n",
        "def logical_or(a, b):\n",
        "    return a or b\n",
        "\n",
        "# Main function\n",
        "def main():\n",
        "    # Predefined boolean values\n",
        "    A = True\n",
        "    B = False\n",
        "    C = False\n",
        "    D = True\n",
        "\n",
        "    # Performing logical OR operations\n",
        "    result1 = logical_or(A, B)\n",
        "    result2 = logical_or(C, D)\n",
        "    result3 = logical_or(A, D)\n",
        "\n",
        "    # Displaying the results\n",
        "    print(f\"The result of {A} OR {B} is: {result1}\")  # True\n",
        "    print(f\"The result of {C} OR {D} is: {result2}\")  # True\n",
        "    print(f\"The result of {A} OR {D} is: {result3}\")  # True\n",
        "\n",
        "# Entry point of the program\n",
        "if __name__ == \"__main__\":\n",
        "    main()"
      ],
      "metadata": {
        "id": "N0t8dK6-MKpq",
        "outputId": "584e916e-30d4-4b15-b304-eb87766e1049",
        "colab": {
          "base_uri": "https://localhost:8080/"
        }
      },
      "execution_count": 5,
      "outputs": [
        {
          "output_type": "stream",
          "name": "stdout",
          "text": [
            "The result of True OR False is: True\n",
            "The result of False OR True is: True\n",
            "The result of True OR True is: True\n"
          ]
        }
      ]
    }
  ],
  "metadata": {
    "colab": {
      "name": "Welcome To Colab",
      "provenance": [],
      "include_colab_link": true
    },
    "kernelspec": {
      "display_name": "Python 3",
      "name": "python3"
    }
  },
  "nbformat": 4,
  "nbformat_minor": 0
}