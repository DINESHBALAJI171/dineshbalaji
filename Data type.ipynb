{
  "cells": [
    {
      "cell_type": "markdown",
      "metadata": {
        "id": "view-in-github",
        "colab_type": "text"
      },
      "source": [
        "<a href=\"https://colab.research.google.com/github/DINESHBALAJI171/dineshbalaji/blob/main/Data%20type.ipynb\" target=\"_parent\"><img src=\"https://colab.research.google.com/assets/colab-badge.svg\" alt=\"Open In Colab\"/></a>"
      ]
    },
    {
      "cell_type": "code",
      "source": [
        "# Integer\n",
        "a = 10\n",
        "print(\"a =\", a, \"| Type:\", type(a))\n",
        "\n",
        "# Float\n",
        "b = 3.14\n",
        "print(\"b =\", b, \"| Type:\", type(b))\n",
        "\n",
        "# String\n",
        "c = \"Hello, World!\"\n",
        "print(\"c =\", c, \"| Type:\", type(c))\n",
        "\n",
        "# Boolean\n",
        "d = True\n",
        "print(\"d =\", d, \"| Type:\", type(d))\n",
        "\n",
        "# List\n",
        "e = [1, 2, 3, 4, 5]\n",
        "print(\"e =\", e, \"| Type:\", type(e))\n",
        "\n",
        "# Tuple\n",
        "f = (10, 20, 30)\n",
        "print(\"f =\", f, \"| Type:\", type(f))\n",
        "\n",
        "# Set\n",
        "g = {1, 2, 3}\n",
        "print(\"g =\", g, \"| Type:\", type(g))\n",
        "\n",
        "# Dictionary\n",
        "h = {\"name\": \"balaji\", \"age\": 20}\n",
        "print(\"h =\", h, \"| Type:\", type(h))\n",
        "\n",
        "# NoneType\n",
        "i = None\n",
        "print(\"i =\", i, \"| Type:\", type(i))"
      ],
      "metadata": {
        "id": "McOlmSkCDOk4",
        "outputId": "0f5ce45e-3a5b-4c47-a2a8-60bc378ee8e2",
        "colab": {
          "base_uri": "https://localhost:8080/"
        }
      },
      "execution_count": 1,
      "outputs": [
        {
          "output_type": "stream",
          "name": "stdout",
          "text": [
            "a = 10 | Type: <class 'int'>\n",
            "b = 3.14 | Type: <class 'float'>\n",
            "c = Hello, World! | Type: <class 'str'>\n",
            "d = True | Type: <class 'bool'>\n",
            "e = [1, 2, 3, 4, 5] | Type: <class 'list'>\n",
            "f = (10, 20, 30) | Type: <class 'tuple'>\n",
            "g = {1, 2, 3} | Type: <class 'set'>\n",
            "h = {'name': 'balaji', 'age': 20} | Type: <class 'dict'>\n",
            "i = None | Type: <class 'NoneType'>\n"
          ]
        }
      ]
    }
  ],
  "metadata": {
    "colab": {
      "name": "Welcome To Colab",
      "provenance": [],
      "include_colab_link": true
    },
    "kernelspec": {
      "display_name": "Python 3",
      "name": "python3"
    }
  },
  "nbformat": 4,
  "nbformat_minor": 0
}