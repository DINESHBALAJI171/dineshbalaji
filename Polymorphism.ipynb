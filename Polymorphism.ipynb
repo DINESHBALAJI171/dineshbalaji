{
  "cells": [
    {
      "cell_type": "markdown",
      "metadata": {
        "id": "view-in-github",
        "colab_type": "text"
      },
      "source": [
        "<a href=\"https://colab.research.google.com/github/DINESHBALAJI171/dineshbalaji/blob/main/Polymorphism.ipynb\" target=\"_parent\"><img src=\"https://colab.research.google.com/assets/colab-badge.svg\" alt=\"Open In Colab\"/></a>"
      ]
    },
    {
      "cell_type": "code",
      "source": [
        "\n",
        "# Parent class\n",
        "class Parent:\n",
        "    def __init__(self, name, age):\n",
        "        self.name = name\n",
        "        self.age = age\n",
        "\n",
        "    def display_info(self):\n",
        "        return f\"Parent Name: {self.name}, Age: {self.age}\"\n",
        "\n",
        "# Child class inheriting from Parent\n",
        "class Child(Parent):\n",
        "    def __init__(self, name, age, school):\n",
        "        super().__init__(name, age)  # Call the constructor of the Parent class\n",
        "        self.school = school\n",
        "\n",
        "    def display_info(self):\n",
        "        parent_info = super().display_info()  # Call the Parent's display_info method\n",
        "        return f\"{parent_info}, School: {self.school}\"\n",
        "\n",
        "# Main function\n",
        "def main():\n",
        "    # Create a Parent object\n",
        "    parent = Parent(\"John\", 40)\n",
        "\n",
        "    # Create a Child object\n",
        "    child = Child(\"Emily\", 10, \"Greenwood Elementary\")\n",
        "\n",
        "    # Display information about the parent and child\n",
        "    print(parent.display_info())\n",
        "    print(child.display_info())\n",
        "\n",
        "# Entry point of the program\n",
        "if __name__ == \"__main__\":\n",
        "    main()"
      ],
      "metadata": {
        "id": "iLqaBPFmT-Jc",
        "outputId": "36758a65-97a3-4300-8bc6-4a16c4ef8924",
        "colab": {
          "base_uri": "https://localhost:8080/"
        }
      },
      "execution_count": 8,
      "outputs": [
        {
          "output_type": "stream",
          "name": "stdout",
          "text": [
            "Parent Name: John, Age: 40\n",
            "Parent Name: Emily, Age: 10, School: Greenwood Elementary\n"
          ]
        }
      ]
    }
  ],
  "metadata": {
    "colab": {
      "name": "Welcome To Colab",
      "provenance": [],
      "include_colab_link": true
    },
    "kernelspec": {
      "display_name": "Python 3",
      "name": "python3"
    }
  },
  "nbformat": 4,
  "nbformat_minor": 0
}