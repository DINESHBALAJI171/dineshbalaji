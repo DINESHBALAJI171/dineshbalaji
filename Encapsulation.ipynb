{
  "cells": [
    {
      "cell_type": "markdown",
      "metadata": {
        "id": "view-in-github",
        "colab_type": "text"
      },
      "source": [
        "<a href=\"https://colab.research.google.com/github/DINESHBALAJI171/dineshbalaji/blob/main/Encapsulation.ipynb\" target=\"_parent\"><img src=\"https://colab.research.google.com/assets/colab-badge.svg\" alt=\"Open In Colab\"/></a>"
      ]
    },
    {
      "cell_type": "code",
      "source": [
        "class Person:\n",
        "    def __init__(self, name, age):\n",
        "        self.__name = name  # Private attribute\n",
        "        self.__age = age    # Private attribute\n",
        "\n",
        "    # Public method to get the name\n",
        "    def get_name(self):\n",
        "        return self.__name\n",
        "\n",
        "    # Public method to set the name\n",
        "    def set_name(self, name):\n",
        "        self.__name = name\n",
        "\n",
        "    # Public method to get the age\n",
        "    def get_age(self):\n",
        "        return self.__age\n",
        "\n",
        "    # Public method to set the age\n",
        "    def set_age(self, age):\n",
        "        if age >= 0:  # Simple validation\n",
        "            self.__age = age\n",
        "        else:\n",
        "            print(\"Age cannot be negative.\")\n",
        "\n",
        "    # Method to display person information\n",
        "    def display_info(self):\n",
        "        return f\"Name: {self.__name}, Age: {self.__age}\"\n",
        "\n",
        "# Main function\n",
        "def main():\n",
        "    # Create a Person object\n",
        "    person = Person(\"Alice\", 30)\n",
        "\n",
        "    # Display initial information\n",
        "    print(person.display_info())\n",
        "\n",
        "    # Modify the person's name and age\n",
        "    person.set_name(\"Bob\")\n",
        "    person.set_age(35)\n",
        "\n",
        "    # Display updated information\n",
        "    print(person.display_info())\n",
        "\n",
        "    # Attempt to set a negative age\n",
        "    person.set_age(-5)\n",
        "\n",
        "# Entry point of the program\n",
        "if __name__ == \"__main__\":\n",
        "    main()"
      ],
      "metadata": {
        "id": "GFvrtGG4U471",
        "outputId": "64f3e410-5315-4ab7-d1e2-0d56fdfce966",
        "colab": {
          "base_uri": "https://localhost:8080/"
        }
      },
      "execution_count": 10,
      "outputs": [
        {
          "output_type": "stream",
          "name": "stdout",
          "text": [
            "Name: Alice, Age: 30\n",
            "Name: Bob, Age: 35\n",
            "Age cannot be negative.\n"
          ]
        }
      ]
    }
  ],
  "metadata": {
    "colab": {
      "name": "Welcome To Colab",
      "provenance": [],
      "include_colab_link": true
    },
    "kernelspec": {
      "display_name": "Python 3",
      "name": "python3"
    }
  },
  "nbformat": 4,
  "nbformat_minor": 0
}