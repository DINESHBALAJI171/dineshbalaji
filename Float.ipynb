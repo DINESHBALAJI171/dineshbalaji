{
  "cells": [
    {
      "cell_type": "markdown",
      "metadata": {
        "id": "view-in-github",
        "colab_type": "text"
      },
      "source": [
        "<a href=\"https://colab.research.google.com/github/DINESHBALAJI171/dineshbalaji/blob/main/Float.ipynb\" target=\"_parent\"><img src=\"https://colab.research.google.com/assets/colab-badge.svg\" alt=\"Open In Colab\"/></a>"
      ]
    },
    {
      "cell_type": "code",
      "source": [
        "\n",
        "\n",
        "def arithmetic_operations(a, b):\n",
        "    print(f\"Addition: {a} + {b} = {a + b}\")\n",
        "    print(f\"Subtraction: {a} - {b} = {a - b}\")\n",
        "    print(f\"Multiplication: {a} * {b} = {a * b}\")\n",
        "    print(f\"Division: {a} / {b} = {a / b if b != 0 else 'undefined'}\")\n",
        "\n",
        "# Main function\n",
        "def main():\n",
        "    try:\n",
        "        # Taking float inputs from the user\n",
        "        num1 = float(input(\"Enter the first float number: \"))\n",
        "        num2 = float(input(\"Enter the second float number: \"))\n",
        "\n",
        "        # Performing arithmetic operations\n",
        "        arithmetic_operations(num1, num2)\n",
        "\n",
        "    except ValueError:\n",
        "        print(\"Please enter valid float numbers.\")\n",
        "\n",
        "# Entry point of the program\n",
        "if __name__ == \"__main__\":\n",
        "    main()"
      ],
      "metadata": {
        "id": "3j3gq9LyRnFv"
      },
      "execution_count": null,
      "outputs": []
    }
  ],
  "metadata": {
    "colab": {
      "name": "Welcome To Colab",
      "provenance": [],
      "include_colab_link": true
    },
    "kernelspec": {
      "display_name": "Python 3",
      "name": "python3"
    }
  },
  "nbformat": 4,
  "nbformat_minor": 0
}