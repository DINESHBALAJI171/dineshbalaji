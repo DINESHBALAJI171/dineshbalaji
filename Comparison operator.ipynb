{
  "cells": [
    {
      "cell_type": "markdown",
      "metadata": {
        "id": "view-in-github",
        "colab_type": "text"
      },
      "source": [
        "<a href=\"https://colab.research.google.com/github/DINESHBALAJI171/dineshbalaji/blob/main/Comparison%20operator.ipynb\" target=\"_parent\"><img src=\"https://colab.research.google.com/assets/colab-badge.svg\" alt=\"Open In Colab\"/></a>"
      ]
    },
    {
      "cell_type": "code",
      "source": [
        "# Simple Comparison Operator Example Program\n",
        "\n",
        "# Initialize variables\n",
        "A = 10\n",
        "B = 5\n",
        "\n",
        "# Function to compare A and B\n",
        "def compare_numbers(a, b):\n",
        "    print(f\"A = {a}, B = {b}\")\n",
        "    print(f\"A > B: {a > b}\")   # Greater than\n",
        "    print(f\"A < B: {a < b}\")   # Less than\n",
        "    print(f\"A >= B: {a >= b}\") # Greater than or equal to\n",
        "    print(f\"A <= B: {a <= b}\") # Less than or equal to\n",
        "    print(f\"A == B: {a == b}\") # Equal to\n",
        "    print(f\"A != B: {a != b}\") # Not equal to\n",
        "\n",
        "# Main function\n",
        "def main():\n",
        "    compare_numbers(A, B)\n",
        "\n",
        "# Entry point of the program\n",
        "if __name__ == \"__main__\":\n",
        "    main()"
      ],
      "metadata": {
        "id": "CSIAwHRfKh1K",
        "outputId": "7fe3035e-7fe9-496d-e3a2-de2c61dae946",
        "colab": {
          "base_uri": "https://localhost:8080/"
        }
      },
      "execution_count": 1,
      "outputs": [
        {
          "output_type": "stream",
          "name": "stdout",
          "text": [
            "A = 10, B = 5\n",
            "A > B: True\n",
            "A < B: False\n",
            "A >= B: True\n",
            "A <= B: False\n",
            "A == B: False\n",
            "A != B: True\n"
          ]
        }
      ]
    }
  ],
  "metadata": {
    "colab": {
      "name": "Welcome To Colab",
      "provenance": [],
      "include_colab_link": true
    },
    "kernelspec": {
      "display_name": "Python 3",
      "name": "python3"
    }
  },
  "nbformat": 4,
  "nbformat_minor": 0
}