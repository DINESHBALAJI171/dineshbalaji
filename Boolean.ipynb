{
  "cells": [
    {
      "cell_type": "markdown",
      "metadata": {
        "id": "view-in-github",
        "colab_type": "text"
      },
      "source": [
        "<a href=\"https://colab.research.google.com/github/DINESHBALAJI171/dineshbalaji/blob/main/Boolean.ipynb\" target=\"_parent\"><img src=\"https://colab.research.google.com/assets/colab-badge.svg\" alt=\"Open In Colab\"/></a>"
      ]
    },
    {
      "cell_type": "code",
      "source": [
        "# Simple Boolean Example Program\n",
        "\n",
        "# Function to perform logical operations\n",
        "def logical_operations(a, b):\n",
        "    print(f\"AND: {a} and {b} = {a and b}\")\n",
        "    print(f\"OR: {a} or {b} = {a or b}\")\n",
        "    print(f\"NOT: not {a} = {not a}\")\n",
        "    print(f\"XOR: {a} != {b} = {a != b}\")\n",
        "\n",
        "# Main function\n",
        "def main():\n",
        "    try:\n",
        "        # Taking boolean inputs from the user\n",
        "        input1 = input(\"Enter the first boolean value (True/False): \").strip().lower()\n",
        "        input2 = input(\"Enter the second boolean value (True/False): \").strip().lower()\n",
        "\n",
        "        # Converting string inputs to boolean\n",
        "        bool1 = input1 == 'true'\n",
        "        bool2 = input2 == 'true'\n",
        "\n",
        "        # Performing logical operations\n",
        "        logical_operations(bool1, bool2)\n",
        "\n",
        "    except Exception as e:\n",
        "        print(\"An error occurred:\", e)\n",
        "\n",
        "# Entry point of the program\n",
        "if __name__ == \"__main__\":\n",
        "    main()"
      ],
      "metadata": {
        "id": "UaGLYZ6kSJiJ"
      },
      "execution_count": null,
      "outputs": []
    }
  ],
  "metadata": {
    "colab": {
      "name": "Welcome To Colab",
      "provenance": [],
      "include_colab_link": true
    },
    "kernelspec": {
      "display_name": "Python 3",
      "name": "python3"
    }
  },
  "nbformat": 4,
  "nbformat_minor": 0
}