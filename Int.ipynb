{
  "cells": [
    {
      "cell_type": "markdown",
      "metadata": {
        "id": "view-in-github",
        "colab_type": "text"
      },
      "source": [
        "<a href=\"https://colab.research.google.com/github/DINESHBALAJI171/dineshbalaji/blob/main/Int.ipynb\" target=\"_parent\"><img src=\"https://colab.research.google.com/assets/colab-badge.svg\" alt=\"Open In Colab\"/></a>"
      ]
    },
    {
      "cell_type": "code",
      "source": [
        "# Simple Integer Example Program\n",
        "\n",
        "# Function to perform arithmetic operations\n",
        "def arithmetic_operations(a, b):\n",
        "    print(f\"Addition: {a} + {b} = {a + b}\")\n",
        "    print(f\"Subtraction: {a} - {b} = {a - b}\")\n",
        "    print(f\"Multiplication: {a} * {b} = {a * b}\")\n",
        "    print(f\"Division: {a} / {b} = {a / b if b != 0 else 'undefined'}\")\n",
        "\n",
        "# Main function\n",
        "def main():\n",
        "    try:\n",
        "        # Taking integer inputs from the user\n",
        "        num1 = int(input(\"Enter the first integer: \"))\n",
        "        num2 = int(input(\"Enter the second integer: \"))\n",
        "\n",
        "        # Performing arithmetic operations\n",
        "        arithmetic_operations(num1, num2)\n",
        "\n",
        "    except ValueError:\n",
        "        print(\"Please enter valid integers.\")\n",
        "\n",
        "# Entry point of the program\n",
        "if __name__ == \"__main__\":\n",
        "    main()"
      ],
      "metadata": {
        "id": "L5OPG4FGRQgA"
      },
      "execution_count": null,
      "outputs": []
    },
    {
      "cell_type": "code",
      "source": [],
      "metadata": {
        "id": "4qMDAgrxRUiE"
      },
      "execution_count": null,
      "outputs": []
    }
  ],
  "metadata": {
    "colab": {
      "name": "Welcome To Colab",
      "provenance": [],
      "include_colab_link": true
    },
    "kernelspec": {
      "display_name": "Python 3",
      "name": "python3"
    }
  },
  "nbformat": 4,
  "nbformat_minor": 0
}