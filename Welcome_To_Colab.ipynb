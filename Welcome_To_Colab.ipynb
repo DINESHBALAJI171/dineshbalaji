{
  "cells": [
    {
      "cell_type": "markdown",
      "metadata": {
        "id": "view-in-github",
        "colab_type": "text"
      },
      "source": [
        "<a href=\"https://colab.research.google.com/github/DINESHBALAJI171/dineshbalaji/blob/main/Welcome_To_Colab.ipynb\" target=\"_parent\"><img src=\"https://colab.research.google.com/assets/colab-badge.svg\" alt=\"Open In Colab\"/></a>"
      ]
    },
    {
      "cell_type": "code",
      "source": [
        "# String program to demonstrate common operations\n",
        "\n",
        "# Get input from user\n",
        "user_string = input(\"Enter a string: \")\n",
        "\n",
        "# Convert to uppercase\n",
        "uppercase_string = user_string.upper()\n",
        "print(\"Uppercase:\", uppercase_string)\n",
        "\n",
        "# Convert to lowercase\n",
        "lowercase_string = user_string.lower()\n",
        "print(\"Lowercase:\", lowercase_string)\n",
        "\n",
        "# Count the number of vowels\n",
        "vowels = \"aeiouAEIOU\"\n",
        "vowel_count = sum(1 for char in user_string if char in vowels)\n",
        "print(\"Number of vowels:\", vowel_count)\n",
        "\n",
        "# Reverse the string\n",
        "reversed_string = user_string[::-1]\n",
        "print(\"Reversed string:\", reversed_string)\n",
        "\n",
        "# Check if it is a palindrome\n",
        "if user_string == reversed_string:\n",
        "    print(\"It is a palindrome.\")\n",
        "else:\n",
        "    print(\"It is not a palindrome.\")"
      ],
      "metadata": {
        "id": "uWr5i8BwH5DX"
      },
      "execution_count": null,
      "outputs": []
    }
  ],
  "metadata": {
    "colab": {
      "name": "Welcome To Colab",
      "provenance": [],
      "include_colab_link": true
    },
    "kernelspec": {
      "display_name": "Python 3",
      "name": "python3"
    }
  },
  "nbformat": 4,
  "nbformat_minor": 0
}