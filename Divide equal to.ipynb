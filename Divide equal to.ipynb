{
  "cells": [
    {
      "cell_type": "markdown",
      "metadata": {
        "id": "view-in-github",
        "colab_type": "text"
      },
      "source": [
        "<a href=\"https://colab.research.google.com/github/DINESHBALAJI171/dineshbalaji/blob/main/Divide%20equal%20to.ipynb\" target=\"_parent\"><img src=\"https://colab.research.google.com/assets/colab-badge.svg\" alt=\"Open In Colab\"/></a>"
      ]
    },
    {
      "cell_type": "code",
      "source": [
        "# Simple Divide Equal To Example Program\n",
        "\n",
        "# Function to perform division and check equality\n",
        "def divide_and_check_equal(a, b, target):\n",
        "    if b == 0:\n",
        "        return \"Division by zero is undefined.\"\n",
        "    result = a / b\n",
        "    return result, result == target\n",
        "\n",
        "# Main function\n",
        "def main():\n",
        "    try:\n",
        "        # Taking inputs from the user\n",
        "        num1 = float(input(\"Enter the first number (numerator): \"))\n",
        "        num2 = float(input(\"Enter the second number (denominator): \"))\n",
        "        target_value = float(input(\"Enter the target value to check equality: \"))\n",
        "\n",
        "        # Performing division and checking equality\n",
        "        result, is_equal = divide_and_check_equal(num1, num2, target_value)\n",
        "\n",
        "        # Displaying the result\n",
        "        if isinstance(result, str):\n",
        "            print(result)  # Handle division by zero\n",
        "        else:\n",
        "            print(f\"The result of {num1} / {num2} is: {result}\")\n",
        "            if is_equal:\n",
        "                print(f\"The result is equal to the target value: {target_value}.\")\n",
        "            else:\n",
        "                print(f\"The result is not equal to the target value: {target_value}.\")\n",
        "\n",
        "    except ValueError:\n",
        "        print(\"Please enter valid numbers.\")\n",
        "\n",
        "# Entry point of the program\n",
        "if __name__ == \"__main__\":\n",
        "    main()"
      ],
      "metadata": {
        "id": "ZV_ebvrDUnfZ"
      },
      "execution_count": null,
      "outputs": []
    }
  ],
  "metadata": {
    "colab": {
      "name": "Welcome To Colab",
      "provenance": [],
      "include_colab_link": true
    },
    "kernelspec": {
      "display_name": "Python 3",
      "name": "python3"
    }
  },
  "nbformat": 4,
  "nbformat_minor": 0
}